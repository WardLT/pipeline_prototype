{
 "cells": [
  {
   "cell_type": "markdown",
   "metadata": {},
   "source": [
    "# Assess Pipeline Performance\n",
    "Measure various aspects of the performance of a pipeline run"
   ]
  },
  {
   "cell_type": "code",
   "execution_count": 1,
   "metadata": {},
   "outputs": [],
   "source": [
    "%matplotlib inline\n",
    "from matplotlib import pyplot as plt\n",
    "from datetime import datetime\n",
    "from glob import glob\n",
    "import pandas as pd\n",
    "import numpy as np\n",
    "import re\n",
    "import os"
   ]
  },
  {
   "cell_type": "markdown",
   "metadata": {},
   "source": [
    "## Find All Runs\n",
    "Get them with a glob and sort by name"
   ]
  },
  {
   "cell_type": "code",
   "execution_count": 2,
   "metadata": {},
   "outputs": [
    {
     "name": "stdout",
     "output_type": "stream",
     "text": [
      "Found 3 runs with results\n"
     ]
    }
   ],
   "source": [
    "runs = sorted(map(os.path.dirname, glob(os.path.join('**', 'results.json'))))\n",
    "print(f'Found {len(runs)} runs with results')"
   ]
  },
  {
   "cell_type": "markdown",
   "metadata": {},
   "source": [
    "Pick the latest"
   ]
  },
  {
   "cell_type": "code",
   "execution_count": 3,
   "metadata": {},
   "outputs": [],
   "source": [
    "out_dir = runs[-1]"
   ]
  },
  {
   "cell_type": "markdown",
   "metadata": {},
   "source": [
    "## Read the Log Files\n",
    "We have a few different files with logs: the result file and the Python logging from the run at least"
   ]
  },
  {
   "cell_type": "markdown",
   "metadata": {},
   "source": [
    "Optimization points evaluated"
   ]
  },
  {
   "cell_type": "code",
   "execution_count": 4,
   "metadata": {},
   "outputs": [],
   "source": [
    "results = pd.read_json(os.path.join(out_dir, 'results.json'), lines=True)"
   ]
  },
  {
   "cell_type": "markdown",
   "metadata": {},
   "source": [
    "The full application log"
   ]
  },
  {
   "cell_type": "code",
   "execution_count": 5,
   "metadata": {},
   "outputs": [],
   "source": [
    "def parse_log(path):\n",
    "    \"\"\"Read in the log as a pandas DataFrame\n",
    "    \n",
    "    Args:\n",
    "        path (str): Path to the log file\n",
    "    Returns:\n",
    "        (pd.DataFrame) Dataframe of the full log messages\n",
    "    \"\"\"\n",
    "    \n",
    "    # Read the entire file because some matches are multi-line\n",
    "    with open(path) as fp:\n",
    "        log_data = fp.read()\n",
    "    \n",
    "    # Apply a regex to get the message data\n",
    "    log_regex = r'^(?P<time>\\d{4}-\\d{2}-\\d{2} \\d{2}:\\d{2}:\\d{2},\\d{3}) - (?P<file>\\S+) - [A-Z]+ - (?P<message>[\\S\\s]+?(?=^\\d|$))'\n",
    "    log_entries = []\n",
    "    for date, file, message in re.findall(log_regex, log_data, re.MULTILINE):\n",
    "        log_entries.append({\n",
    "            'datetime': datetime.strptime(date, '%Y-%m-%d %H:%M:%S,%f'),\n",
    "            'file': file,\n",
    "            'message': message.strip()\n",
    "        })\n",
    "    return pd.DataFrame(log_entries) "
   ]
  },
  {
   "cell_type": "code",
   "execution_count": 6,
   "metadata": {},
   "outputs": [
    {
     "data": {
      "text/html": [
       "<div>\n",
       "<style scoped>\n",
       "    .dataframe tbody tr th:only-of-type {\n",
       "        vertical-align: middle;\n",
       "    }\n",
       "\n",
       "    .dataframe tbody tr th {\n",
       "        vertical-align: top;\n",
       "    }\n",
       "\n",
       "    .dataframe thead th {\n",
       "        text-align: right;\n",
       "    }\n",
       "</style>\n",
       "<table border=\"1\" class=\"dataframe\">\n",
       "  <thead>\n",
       "    <tr style=\"text-align: right;\">\n",
       "      <th></th>\n",
       "      <th>datetime</th>\n",
       "      <th>file</th>\n",
       "      <th>message</th>\n",
       "    </tr>\n",
       "  </thead>\n",
       "  <tbody>\n",
       "    <tr>\n",
       "      <th>0</th>\n",
       "      <td>2020-02-19 17:08:49.839</td>\n",
       "      <td>parsl.dataflow.dflow</td>\n",
       "      <td>Starting DataFlowKernel with config</td>\n",
       "    </tr>\n",
       "    <tr>\n",
       "      <th>1</th>\n",
       "      <td>2020-02-19 17:08:49.845</td>\n",
       "      <td>parsl.dataflow.dflow</td>\n",
       "      <td>Parsl version: 0.9.0</td>\n",
       "    </tr>\n",
       "    <tr>\n",
       "      <th>2</th>\n",
       "      <td>2020-02-19 17:08:49.845</td>\n",
       "      <td>parsl.dataflow.usage_tracking.usage</td>\n",
       "      <td>Tracking status: False</td>\n",
       "    </tr>\n",
       "    <tr>\n",
       "      <th>3</th>\n",
       "      <td>2020-02-19 17:08:49.845</td>\n",
       "      <td>parsl.dataflow.usage_tracking.usage</td>\n",
       "      <td>Testing mode   : False</td>\n",
       "    </tr>\n",
       "    <tr>\n",
       "      <th>4</th>\n",
       "      <td>2020-02-19 17:08:49.845</td>\n",
       "      <td>parsl.dataflow.dflow</td>\n",
       "      <td>Run id is: 5d35c6bc-8490-415f-8e05-829883f4ba96</td>\n",
       "    </tr>\n",
       "  </tbody>\n",
       "</table>\n",
       "</div>"
      ],
      "text/plain": [
       "                 datetime                                 file  \\\n",
       "0 2020-02-19 17:08:49.839                 parsl.dataflow.dflow   \n",
       "1 2020-02-19 17:08:49.845                 parsl.dataflow.dflow   \n",
       "2 2020-02-19 17:08:49.845  parsl.dataflow.usage_tracking.usage   \n",
       "3 2020-02-19 17:08:49.845  parsl.dataflow.usage_tracking.usage   \n",
       "4 2020-02-19 17:08:49.845                 parsl.dataflow.dflow   \n",
       "\n",
       "                                           message  \n",
       "0              Starting DataFlowKernel with config  \n",
       "1                             Parsl version: 0.9.0  \n",
       "2                           Tracking status: False  \n",
       "3                           Testing mode   : False  \n",
       "4  Run id is: 5d35c6bc-8490-415f-8e05-829883f4ba96  "
      ]
     },
     "execution_count": 6,
     "metadata": {},
     "output_type": "execute_result"
    }
   ],
   "source": [
    "log_data = parse_log(os.path.join(out_dir, 'run.log'))\n",
    "log_data.head()"
   ]
  },
  {
   "cell_type": "code",
   "execution_count": 7,
   "metadata": {},
   "outputs": [
    {
     "name": "stdout",
     "output_type": "stream",
     "text": [
      "Application start time: 2020-02-19 17:08:49.839000\n"
     ]
    }
   ],
   "source": [
    "start_time = log_data['datetime'].min()\n",
    "print(f'Application start time: {start_time}')"
   ]
  },
  {
   "cell_type": "markdown",
   "metadata": {},
   "source": [
    "Parsl output log"
   ]
  },
  {
   "cell_type": "code",
   "execution_count": 8,
   "metadata": {},
   "outputs": [],
   "source": [
    "def parse_parsl_log(path):\n",
    "    \"\"\"Read in the Parsl log as a pandas DataFrame\n",
    "    \n",
    "    Args:\n",
    "        path (str): Path to the log file\n",
    "    Returns:\n",
    "        (pd.DataFrame) Dataframe of the full log messages\n",
    "    \"\"\"\n",
    "    \n",
    "    # Read the entire file because some matches are multi-line\n",
    "    with open(path) as fp:\n",
    "        log_data = fp.read()\n",
    "    \n",
    "    # Apply a regex to get the message data\n",
    "    log_regex = r'^(?P<time>\\d{4}-\\d{2}-\\d{2} \\d{2}:\\d{2}:\\d{2}.\\d{3}) (?P<file>\\S+):\\d+ \\[[A-Z]+\\]\\s+(?P<message>[\\S\\s]+?(?=^\\d|\\Z))'\n",
    "    log_entries = []\n",
    "    for date, file, message in re.findall(log_regex, log_data, re.MULTILINE):\n",
    "        log_entries.append({\n",
    "            'datetime': datetime.strptime(date, '%Y-%m-%d %H:%M:%S.%f'),\n",
    "            'file': file,\n",
    "            'message': message.strip()\n",
    "        })\n",
    "    return pd.DataFrame(log_entries) "
   ]
  },
  {
   "cell_type": "code",
   "execution_count": 9,
   "metadata": {},
   "outputs": [
    {
     "name": "stdout",
     "output_type": "stream",
     "text": [
      "Read 2858 lines\n"
     ]
    }
   ],
   "source": [
    "parsl_log = parse_parsl_log(os.path.join(out_dir, 'run-info', '000', 'parsl.log'))\n",
    "print(f'Read {len(parsl_log)} lines')"
   ]
  },
  {
   "cell_type": "markdown",
   "metadata": {},
   "source": [
    "Compute run times"
   ]
  },
  {
   "cell_type": "code",
   "execution_count": 10,
   "metadata": {},
   "outputs": [],
   "source": [
    "parsl_log['runtime'] = parsl_log['datetime'].apply(lambda x: (x - start_time).total_seconds())\n",
    "log_data['runtime'] = log_data['datetime'].apply(lambda x: (x - start_time).total_seconds())"
   ]
  },
  {
   "cell_type": "code",
   "execution_count": 11,
   "metadata": {},
   "outputs": [],
   "source": [
    "results['runtime'] = results['time_result_received'].apply(datetime.fromtimestamp).apply(lambda x: (x - start_time).total_seconds())"
   ]
  },
  {
   "cell_type": "markdown",
   "metadata": {},
   "source": [
    "## Compute the Optimizer Performance\n",
    "Plot the best opimization performance as a function of number of evals and time"
   ]
  },
  {
   "cell_type": "markdown",
   "metadata": {},
   "source": [
    "Compute the result output and run_time"
   ]
  },
  {
   "cell_type": "code",
   "execution_count": 12,
   "metadata": {},
   "outputs": [],
   "source": [
    "results['output'] = results['value'].apply(lambda x: x['result'])"
   ]
  },
  {
   "cell_type": "code",
   "execution_count": 13,
   "metadata": {},
   "outputs": [
    {
     "data": {
      "image/png": "[encoded data removed]",
      "text/plain": [
       "<Figure size 468x180 with 2 Axes>"
      ]
     },
     "metadata": {
      "needs_background": "light"
     },
     "output_type": "display_data"
    }
   ],
   "source": [
    "fig, axs = plt.subplots(1, 2, figsize=(6.5, 2.5), sharey=True)\n",
    "\n",
    "best_eval = results['output'].cummin()\n",
    "axs[0].plot(results.index, best_eval)\n",
    "axs[1].plot(results['runtime'], best_eval)\n",
    "\n",
    "axs[0].set_ylabel('Best Value')\n",
    "axs[0].set_xlabel('Step Number')\n",
    "axs[1].set_xlabel('Wall Time (s)')\n",
    "fig.tight_layout()"
   ]
  },
  {
   "cell_type": "markdown",
   "metadata": {},
   "source": [
    "## Compute Actual Runtime vs Makespan for Results\n",
    "We measure the runtime of actually invoking the task and how long from when the result is completed to when it is received"
   ]
  },
  {
   "cell_type": "code",
   "execution_count": 14,
   "metadata": {},
   "outputs": [],
   "source": [
    "results['runtime'] = results['value'].apply(lambda x: x['runtime'])\n",
    "results['makespan'] = results['time_result_received'] - results['time_created']\n",
    "results['overhead'] = results['makespan'] - results['runtime']\n",
    "results['overhead_frac'] = results['overhead'] / results['runtime']"
   ]
  },
  {
   "cell_type": "code",
   "execution_count": 15,
   "metadata": {},
   "outputs": [
    {
     "data": {
      "image/png": "[encoded data removed]",
      "text/plain": [
       "<Figure size 468x180 with 3 Axes>"
      ]
     },
     "metadata": {
      "needs_background": "light"
     },
     "output_type": "display_data"
    }
   ],
   "source": [
    "fig, axs = plt.subplots(1, 3, sharey=True, figsize=(6.5, 2.5))\n",
    "\n",
    "top_val = np.percentile(results['overhead'], 95)\n",
    "top_per = np.percentile(results['overhead_frac'], 95)\n",
    "axs[0].hist(results['runtime'], bins=32)\n",
    "axs[1].hist(results['overhead'], bins=np.linspace(0, top_val * 1.1, 32))\n",
    "axs[2].hist(results['overhead_frac'], bins=np.linspace(0, top_per * 1.1, 32))\n",
    "\n",
    "axs[0].set_xlabel('Runtime (s)')\n",
    "axs[1].set_xlabel('Overhead (s)')\n",
    "axs[2].set_xlabel('Overhead/Runtime')\n",
    "axs[0].set_ylabel('Frequency')\n",
    "fig.tight_layout()"
   ]
  },
  {
   "cell_type": "markdown",
   "metadata": {},
   "source": [
    "## Evaluate How Busy Parsl Is\n",
    "We are going to measure the queue length as a function of time by counting jobs in of the `target_function` and jobs out of `output_result`"
   ]
  },
  {
   "cell_type": "code",
   "execution_count": 16,
   "metadata": {},
   "outputs": [
    {
     "name": "stdout",
     "output_type": "stream",
     "text": [
      "2057 job status messages\n"
     ]
    }
   ],
   "source": [
    "job_status = parsl_log[parsl_log['message'].str.startswith('Task')].copy()\n",
    "print(f'{len(job_status)} job status messages')"
   ]
  },
  {
   "cell_type": "code",
   "execution_count": 17,
   "metadata": {},
   "outputs": [],
   "source": [
    "def determine_queue_change(message):\n",
    "    \"\"\"Mark whether a message corresponds to a message added to queue\n",
    "    or completed from the queue\n",
    "    \n",
    "    1 corresponds to adding, -1 to finishing, and 0 otherwise\n",
    "    \n",
    "    Args:\n",
    "        message (str): Task message\n",
    "    Returns:\n",
    "        (int) Whether the queue increased or decreased\n",
    "    \"\"\"\n",
    "    \n",
    "    if 'submitted for App target_function' in message:\n",
    "        return 1\n",
    "    elif 'launched on executor local_threads' in message:\n",
    "        return -1\n",
    "    else:\n",
    "        return 0"
   ]
  },
  {
   "cell_type": "code",
   "execution_count": 18,
   "metadata": {},
   "outputs": [],
   "source": [
    "job_status['queue_length'] = job_status['message'].apply(determine_queue_change).cumsum()"
   ]
  },
  {
   "cell_type": "markdown",
   "metadata": {},
   "source": [
    "Plot the average queue length over time"
   ]
  },
  {
   "cell_type": "code",
   "execution_count": 19,
   "metadata": {},
   "outputs": [],
   "source": [
    "rolling_queue = job_status.set_index('datetime').rolling('2s').mean()"
   ]
  },
  {
   "cell_type": "code",
   "execution_count": 20,
   "metadata": {},
   "outputs": [
    {
     "data": {
      "image/png": "[encoded data removed]",
      "text/plain": [
       "<Figure size 252x180 with 1 Axes>"
      ]
     },
     "metadata": {
      "needs_background": "light"
     },
     "output_type": "display_data"
    }
   ],
   "source": [
    "fig, ax = plt.subplots(figsize=(3.5, 2.5))\n",
    "\n",
    "ax.step(rolling_queue['runtime'], rolling_queue['queue_length'])\n",
    "\n",
    "ax.set_ylabel('Queue Length, 2s Average')\n",
    "ax.set_xlabel('Walltime (s)')\n",
    "fig.tight_layout()"
   ]
  },
  {
   "cell_type": "markdown",
   "metadata": {},
   "source": [
    "*Finding*: After a few seconds, the Thinker is no longer able to keep the queue stocked with work."
   ]
  },
  {
   "cell_type": "markdown",
   "metadata": {},
   "source": [
    "## Plot the Time Between Result Recieved and New Decision\n",
    "Plot the amount of time the Thinker requires to submit its next idea"
   ]
  },
  {
   "cell_type": "code",
   "execution_count": 21,
   "metadata": {},
   "outputs": [],
   "source": [
    "thinker_log = log_data.query('file==\"Thinker\"').iloc[4:]  # Get rid of first few messages, which are not from the loop"
   ]
  },
  {
   "cell_type": "markdown",
   "metadata": {},
   "source": [
    "Compute time between received and next idea sent"
   ]
  },
  {
   "cell_type": "code",
   "execution_count": 22,
   "metadata": {},
   "outputs": [],
   "source": [
    "thinker_log['sent'] = thinker_log['message'].str.contains('Sent')"
   ]
  },
  {
   "cell_type": "code",
   "execution_count": 23,
   "metadata": {},
   "outputs": [],
   "source": [
    "decision_time = thinker_log.query('sent')['runtime'].values - thinker_log.query('not sent')['runtime'].values[:-1]"
   ]
  },
  {
   "cell_type": "code",
   "execution_count": 24,
   "metadata": {},
   "outputs": [
    {
     "data": {
      "image/png": "[encoded data removed]",
      "text/plain": [
       "<Figure size 252x180 with 1 Axes>"
      ]
     },
     "metadata": {
      "needs_background": "light"
     },
     "output_type": "display_data"
    }
   ],
   "source": [
    "fig, ax = plt.subplots(figsize=(3.5, 2.5))\n",
    "\n",
    "ax.plot(decision_time)\n",
    "\n",
    "ax.set_xlabel('Decision Number')\n",
    "ax.set_ylabel('Time Required (s)')\n",
    "fig.tight_layout()"
   ]
  },
  {
   "cell_type": "markdown",
   "metadata": {},
   "source": [
    "*Finding*: This is a result of the time to make the decision increasing, due to the increasing size of training data."
   ]
  },
  {
   "cell_type": "code",
   "execution_count": null,
   "metadata": {},
   "outputs": [],
   "source": []
  }
 ],
 "metadata": {
  "kernelspec": {
   "display_name": "pipeline",
   "language": "python",
   "name": "pipeline"
  },
  "language_info": {
   "codemirror_mode": {
    "name": "ipython",
    "version": 3
   },
   "file_extension": ".py",
   "mimetype": "text/x-python",
   "name": "python",
   "nbconvert_exporter": "python",
   "pygments_lexer": "ipython3",
   "version": "3.6.10"
  }
 },
 "nbformat": 4,
 "nbformat_minor": 4
}
